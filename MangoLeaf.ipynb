{
  "nbformat": 4,
  "nbformat_minor": 0,
  "metadata": {
    "colab": {
      "provenance": [],
      "mount_file_id": "1V2ftOKjUhOksdoU1nvUnu8SvPGStldjM",
      "authorship_tag": "ABX9TyMKA2t4ZzOGE4rauvgUk5MP",
      "include_colab_link": true
    },
    "kernelspec": {
      "name": "python3",
      "display_name": "Python 3"
    },
    "language_info": {
      "name": "python"
    }
  },
  "cells": [
    {
      "cell_type": "markdown",
      "metadata": {
        "id": "view-in-github",
        "colab_type": "text"
      },
      "source": [
        "<a href=\"https://colab.research.google.com/github/Samurarahman/CSE475/blob/main/MangoLeaf.ipynb\" target=\"_parent\"><img src=\"https://colab.research.google.com/assets/colab-badge.svg\" alt=\"Open In Colab\"/></a>"
      ]
    },
    {
      "cell_type": "markdown",
      "source": [
        "[https://github.com/Samurarahman/CSE475/blob/main/MangoLeaf.ipynb](https://github.com/Samurarahman/CSE475/blob/main/MangoLeaf.ipynb)"
      ],
      "metadata": {
        "id": "iUe7TTcL_2ea"
      }
    },
    {
      "cell_type": "code",
      "execution_count": null,
      "metadata": {
        "id": "U0xKbDTm-uS8",
        "colab": {
          "base_uri": "https://localhost:8080/"
        },
        "outputId": "e75818cb-51d7-4e9e-9feb-da17037feacb"
      },
      "outputs": [
        {
          "output_type": "stream",
          "name": "stdout",
          "text": [
            "Drive already mounted at /content/drive; to attempt to forcibly remount, call drive.mount(\"/content/drive\", force_remount=True).\n"
          ]
        }
      ],
      "source": [
        "from google.colab import drive\n",
        "drive.mount('/content/drive')"
      ]
    },
    {
      "cell_type": "code",
      "source": [
        "df = '/content/drive/MyDrive/Untitled folder2/475/lab1/MangoLeafBD Dataset/MangoLeafBD Dataset'"
      ],
      "metadata": {
        "id": "HWzlqvQQ-v2T"
      },
      "execution_count": null,
      "outputs": []
    },
    {
      "cell_type": "code",
      "source": [
        "import numpy as np\n",
        "import pandas as pd\n",
        "import matplotlib.pyplot as plt\n",
        "import seaborn as sns\n",
        "import glob\n",
        "from sklearn.tree import plot_tree\n",
        "from sklearn import tree\n",
        "from PIL import Image\n",
        "from pathlib import Path\n",
        "from sklearn.model_selection import train_test_split\n",
        "from sklearn.tree import DecisionTreeClassifier\n",
        "from sklearn.ensemble import RandomForestClassifier\n",
        "from sklearn.metrics import accuracy_score, classification_report, confusion_matrix"
      ],
      "metadata": {
        "id": "oh3vPxFf-wIq"
      },
      "execution_count": null,
      "outputs": []
    },
    {
      "cell_type": "code",
      "source": [
        "mangotypes = ['Anthracnose', 'Bacterial Canker', 'Cutting Weevil', 'Die Back',\n",
        "               'Gall Midge', 'Powdery Mildew', 'Sooty Mould', 'Healthy']"
      ],
      "metadata": {
        "id": "LooZgtHj_w0M"
      },
      "execution_count": null,
      "outputs": []
    },
    {
      "cell_type": "code",
      "source": [
        "def load_images(df, mangotypes, image_size=(128, 128)):\n",
        "    data = []\n",
        "    labels = []\n",
        "    for class_idx, class_name in enumerate(mangotypes):\n",
        "        image_dir = Path(df) / class_name\n",
        "        for img_path in image_dir.glob(\"*.jpg\"):\n",
        "            image = Image.open(img_path).resize(image_size)\n",
        "            data.append(np.array(image).flatten())\n",
        "            labels.append(class_idx)\n",
        "    return np.array(data), np.array(labels)"
      ],
      "metadata": {
        "id": "C4QtYs8O_w6a"
      },
      "execution_count": null,
      "outputs": []
    },
    {
      "cell_type": "code",
      "source": [
        "data, labels = load_images(df, mangotypes)\n",
        "print(\"Data shape:\", data.shape)\n",
        "print(\"Labels shape:\", labels.shape)"
      ],
      "metadata": {
        "id": "R7hszKDr_xCU"
      },
      "execution_count": null,
      "outputs": []
    },
    {
      "cell_type": "code",
      "source": [
        "from pathlib import Path\n",
        "import matplotlib.pyplot as plt\n",
        "from PIL import Image\n",
        "\n",
        "fig, axs = plt.subplots(2, 4, figsize=(12, 6))\n",
        "for i, class_name in enumerate(mangotypes):\n",
        "    img_path = next(Path(df, class_name).glob(\"*.jpg\"))\n",
        "    img = Image.open(img_path)\n",
        "    ax = axs[i // 4, i % 4]\n",
        "    ax.imshow(img)\n",
        "    ax.set_title(class_name)\n",
        "    ax.axis('off')\n",
        "\n",
        "plt.tight_layout()\n",
        "plt.show()\n"
      ],
      "metadata": {
        "id": "F_dwSkpn-wL8"
      },
      "execution_count": null,
      "outputs": []
    },
    {
      "cell_type": "code",
      "source": [
        "X_train, X_test, y_train, y_test = train_test_split(data, labels, test_size=0.2, random_state=42)\n",
        "print(f\"Training set size: {X_train.shape}, Test set size: {X_test.shape}\")"
      ],
      "metadata": {
        "id": "QcWx_ipd9kou"
      },
      "execution_count": null,
      "outputs": []
    },
    {
      "cell_type": "code",
      "source": [
        "dt = DecisionTreeClassifier(random_state=42)\n",
        "dt.fit(X_train, y_train)\n",
        "dt_pred = dt.predict(X_test)"
      ],
      "metadata": {
        "id": "oInGhIib9kyu"
      },
      "execution_count": null,
      "outputs": []
    },
    {
      "cell_type": "code",
      "source": [
        "plt.figure(figsize=(12, 8))\n",
        "plot_tree(dt, class_names=mangotypes, filled=True)\n",
        "plt.title('Decision Tree')\n",
        "plt.show()"
      ],
      "metadata": {
        "id": "OXMQneep9Yr-"
      },
      "execution_count": null,
      "outputs": []
    },
    {
      "cell_type": "code",
      "source": [
        "rf = RandomForestClassifier(random_state=42)\n",
        "rf.fit(X_train, y_train)\n",
        "rf_pred = rf.predict(X_test)\n",
        "plt.figure(figsize=(20, 20))\n",
        "_ = plot_tree(rf.estimators_[0], filled=True, class_names=mangotypes)\n",
        "plt.title('Random Forest - Tree 1')\n",
        "plt.show()"
      ],
      "metadata": {
        "id": "uijsqk6r9Y1e"
      },
      "execution_count": null,
      "outputs": []
    }
  ]
}