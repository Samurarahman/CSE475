{
  "nbformat": 4,
  "nbformat_minor": 0,
  "metadata": {
    "colab": {
      "provenance": [],
      "mount_file_id": "1V2ftOKjUhOksdoU1nvUnu8SvPGStldjM",
      "authorship_tag": "ABX9TyPXK8KBxRZ7lDK+N9xS8o9v",
      "include_colab_link": true
    },
    "kernelspec": {
      "name": "python3",
      "display_name": "Python 3"
    },
    "language_info": {
      "name": "python"
    }
  },
  "cells": [
    {
      "cell_type": "markdown",
      "metadata": {
        "id": "view-in-github",
        "colab_type": "text"
      },
      "source": [
        "<a href=\"https://colab.research.google.com/github/Samurarahman/CSE475/blob/main/MangoLeaf.ipynb\" target=\"_parent\"><img src=\"https://colab.research.google.com/assets/colab-badge.svg\" alt=\"Open In Colab\"/></a>"
      ]
    },
    {
      "cell_type": "markdown",
      "source": [
        "[https://github.com/Samurarahman/CSE475/blob/main/MangoLeaf.ipynb](https://github.com/Samurarahman/CSE475/blob/main/MangoLeaf.ipynb)"
      ],
      "metadata": {
        "id": "iUe7TTcL_2ea"
      }
    },
    {
      "cell_type": "code",
      "execution_count": 1,
      "metadata": {
        "id": "U0xKbDTm-uS8",
        "colab": {
          "base_uri": "https://localhost:8080/"
        },
        "outputId": "e75818cb-51d7-4e9e-9feb-da17037feacb"
      },
      "outputs": [
        {
          "output_type": "stream",
          "name": "stdout",
          "text": [
            "Drive already mounted at /content/drive; to attempt to forcibly remount, call drive.mount(\"/content/drive\", force_remount=True).\n"
          ]
        }
      ],
      "source": [
        "from google.colab import drive\n",
        "drive.mount('/content/drive')"
      ]
    },
    {
      "cell_type": "code",
      "source": [
        "df = '/content/drive/MyDrive/Untitled folder2/475/lab1/MangoLeafBD Dataset/MangoLeafBD Dataset'"
      ],
      "metadata": {
        "id": "HWzlqvQQ-v2T"
      },
      "execution_count": 2,
      "outputs": []
    },
    {
      "cell_type": "code",
      "source": [
        "import numpy as np\n",
        "import pandas as pd\n",
        "import matplotlib.pyplot as plt\n",
        "import seaborn as sns\n",
        "import glob\n",
        "from sklearn.tree import plot_tree\n",
        "from sklearn import tree\n",
        "from PIL import Image\n",
        "from sklearn.model_selection import train_test_split\n",
        "from sklearn.tree import DecisionTreeClassifier\n",
        "from sklearn.ensemble import RandomForestClassifier\n",
        "from sklearn.metrics import accuracy_score, classification_report, confusion_matrix"
      ],
      "metadata": {
        "id": "oh3vPxFf-wIq"
      },
      "execution_count": 3,
      "outputs": []
    },
    {
      "cell_type": "code",
      "source": [
        "image_size = (240, 320)\n",
        "mangotypes = ['Anthracnose', 'Bacterial Canker', 'Cutting Weevil', 'Die Back',\n",
        "               'Gall Midge', 'Powdery Mildew', 'Sooty Mould', 'Healthy']"
      ],
      "metadata": {
        "id": "LooZgtHj_w0M"
      },
      "execution_count": 4,
      "outputs": []
    },
    {
      "cell_type": "code",
      "source": [],
      "metadata": {
        "id": "C4QtYs8O_w6a"
      },
      "execution_count": null,
      "outputs": []
    },
    {
      "cell_type": "code",
      "source": [],
      "metadata": {
        "id": "R7hszKDr_xCU"
      },
      "execution_count": null,
      "outputs": []
    },
    {
      "cell_type": "code",
      "source": [],
      "metadata": {
        "id": "F_dwSkpn-wL8"
      },
      "execution_count": null,
      "outputs": []
    }
  ]
}